{
 "cells": [
  {
   "cell_type": "code",
   "execution_count": 2,
   "id": "0b30a9e4",
   "metadata": {},
   "outputs": [],
   "source": [
    "# Dependencies and Setup\n",
    "import matplotlib.pyplot as plt\n",
    "import pandas as pd\n",
    "import scipy.stats as st\n",
    "from scipy.stats import linregress\n",
    "\n",
    "# Study data files\n",
    "tesla_acc = \"data/Tesla Deaths - Deaths_1.csv\"\n",
    "\n",
    "# Read the Telsa_accidents data\n",
    "tesla_data = pd.read_csv(tesla_acc)"
   ]
  },
  {
   "cell_type": "code",
   "execution_count": 3,
   "id": "0cbd8d21",
   "metadata": {},
   "outputs": [
    {
     "name": "stdout",
     "output_type": "stream",
     "text": [
      "<class 'pandas.core.frame.DataFrame'>\n"
     ]
    }
   ],
   "source": [
    "print(type(tesla_data))"
   ]
  },
  {
   "cell_type": "code",
   "execution_count": 4,
   "id": "c9f67101",
   "metadata": {},
   "outputs": [
    {
     "data": {
      "text/plain": [
       "Index(['Case #', 'Year', 'Date', ' Country ', ' State ', ' Description ',\n",
       "       ' Deaths ', ' Tesla driver ', ' Tesla occupant ', ' Other vehicle ',\n",
       "       ' Cyclists/ Peds ', ' TSLA+cycl / peds ', ' Model ',\n",
       "       ' Autopilot claimed ', ' Verified Tesla Autopilot Deaths ',\n",
       "       ' Verified Tesla Autopilot Deaths + All Deaths Reported to NHTSA SGO ',\n",
       "       'Unnamed: 16', 'Unnamed: 17', ' Source ', ' Note ', ' Deceased 1 ',\n",
       "       ' Deceased 2 ', ' Deceased 3 ', ' Deceased 4 '],\n",
       "      dtype='object')"
      ]
     },
     "execution_count": 4,
     "metadata": {},
     "output_type": "execute_result"
    }
   ],
   "source": [
    "tesla_data.keys()"
   ]
  },
  {
   "cell_type": "code",
   "execution_count": 11,
   "id": "fa357acc",
   "metadata": {},
   "outputs": [
    {
     "name": "stdout",
     "output_type": "stream",
     "text": [
      "The number of people that have died due to accidents with Tesla cars involved are: 355\n"
     ]
    }
   ],
   "source": [
    "print('The number of people that have died due to accidents with Tesla cars involved are: ' \n",
    "      + str(tesla_data[' Deaths '].sum()))"
   ]
  },
  {
   "cell_type": "code",
   "execution_count": null,
   "id": "8d3392fb",
   "metadata": {},
   "outputs": [],
   "source": []
  }
 ],
 "metadata": {
  "kernelspec": {
   "display_name": "Python 3 (ipykernel)",
   "language": "python",
   "name": "python3"
  },
  "language_info": {
   "codemirror_mode": {
    "name": "ipython",
    "version": 3
   },
   "file_extension": ".py",
   "mimetype": "text/x-python",
   "name": "python",
   "nbconvert_exporter": "python",
   "pygments_lexer": "ipython3",
   "version": "3.9.13"
  }
 },
 "nbformat": 4,
 "nbformat_minor": 5
}
