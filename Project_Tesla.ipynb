{
 "cells": [
  {
   "cell_type": "code",
   "execution_count": 57,
   "id": "0b30a9e4",
   "metadata": {},
   "outputs": [],
   "source": [
    "# Dependencies and Setup\n",
    "import matplotlib.pyplot as plt\n",
    "import pandas as pd\n",
    "import scipy.stats as st\n",
    "import numpy as np\n",
    "from scipy.stats import linregress\n",
    "\n",
    "\n",
    "# Study data files\n",
    "tesla_acc = \"data/Tesla Deaths - Deaths_2.csv\"\n",
    "\n",
    "# Read the Telsa_accidents data\n",
    "tesla_data = pd.read_csv(tesla_acc)"
   ]
  },
  {
   "cell_type": "code",
   "execution_count": 58,
   "id": "0cbd8d21",
   "metadata": {},
   "outputs": [
    {
     "data": {
      "text/html": [
       "<div>\n",
       "<style scoped>\n",
       "    .dataframe tbody tr th:only-of-type {\n",
       "        vertical-align: middle;\n",
       "    }\n",
       "\n",
       "    .dataframe tbody tr th {\n",
       "        vertical-align: top;\n",
       "    }\n",
       "\n",
       "    .dataframe thead th {\n",
       "        text-align: right;\n",
       "    }\n",
       "</style>\n",
       "<table border=\"1\" class=\"dataframe\">\n",
       "  <thead>\n",
       "    <tr style=\"text-align: right;\">\n",
       "      <th></th>\n",
       "      <th>Case #</th>\n",
       "      <th>Year</th>\n",
       "      <th>Date</th>\n",
       "      <th>Country</th>\n",
       "      <th>State</th>\n",
       "      <th>Description</th>\n",
       "      <th>Deaths</th>\n",
       "      <th>Tesla driver</th>\n",
       "      <th>Tesla occupant</th>\n",
       "      <th>Other vehicle</th>\n",
       "      <th>...</th>\n",
       "      <th>Verified Tesla Autopilot Deaths</th>\n",
       "      <th>Verified Tesla Autopilot Deaths + All Deaths Reported to NHTSA SGO</th>\n",
       "      <th>Unnamed: 16</th>\n",
       "      <th>Unnamed: 17</th>\n",
       "      <th>Source</th>\n",
       "      <th>Note</th>\n",
       "      <th>Deceased 1</th>\n",
       "      <th>Deceased 2</th>\n",
       "      <th>Deceased 3</th>\n",
       "      <th>Deceased 4</th>\n",
       "    </tr>\n",
       "  </thead>\n",
       "  <tbody>\n",
       "    <tr>\n",
       "      <th>0</th>\n",
       "      <td>296</td>\n",
       "      <td>2022</td>\n",
       "      <td>1/30/2023</td>\n",
       "      <td>USA</td>\n",
       "      <td>MO</td>\n",
       "      <td>Speeding Tesla crashes into car</td>\n",
       "      <td>1</td>\n",
       "      <td>0.0</td>\n",
       "      <td>0.0</td>\n",
       "      <td>1.0</td>\n",
       "      <td>...</td>\n",
       "      <td>0.0</td>\n",
       "      <td>0.0</td>\n",
       "      <td>https://web.archive.org/web/20230130231416/ht...</td>\n",
       "      <td>https://web.archive.org/web/20230130231416/ht...</td>\n",
       "      <td>https://web.archive.org/web/20230130231416/ht...</td>\n",
       "      <td>NaN</td>\n",
       "      <td>NaN</td>\n",
       "      <td>NaN</td>\n",
       "      <td>NaN</td>\n",
       "      <td>NaN</td>\n",
       "    </tr>\n",
       "    <tr>\n",
       "      <th>1</th>\n",
       "      <td>295</td>\n",
       "      <td>2022</td>\n",
       "      <td>1/21/2023</td>\n",
       "      <td>USA</td>\n",
       "      <td>CA</td>\n",
       "      <td>Tesla crashses into resident's pool</td>\n",
       "      <td>1</td>\n",
       "      <td>1.0</td>\n",
       "      <td>0.0</td>\n",
       "      <td>0.0</td>\n",
       "      <td>...</td>\n",
       "      <td>0.0</td>\n",
       "      <td>0.0</td>\n",
       "      <td>https://archive.is/r4ida</td>\n",
       "      <td>https://archive.is/r4ida</td>\n",
       "      <td>https://archive.is/r4ida</td>\n",
       "      <td>NaN</td>\n",
       "      <td>NaN</td>\n",
       "      <td>NaN</td>\n",
       "      <td>NaN</td>\n",
       "      <td>NaN</td>\n",
       "    </tr>\n",
       "    <tr>\n",
       "      <th>2</th>\n",
       "      <td>294</td>\n",
       "      <td>2022</td>\n",
       "      <td>1/17/2023</td>\n",
       "      <td>USA</td>\n",
       "      <td>CA</td>\n",
       "      <td>Tesla crashes into back of semi</td>\n",
       "      <td>1</td>\n",
       "      <td>1.0</td>\n",
       "      <td>0.0</td>\n",
       "      <td>0.0</td>\n",
       "      <td>...</td>\n",
       "      <td>0.0</td>\n",
       "      <td>0.0</td>\n",
       "      <td>NaN</td>\n",
       "      <td>NaN</td>\n",
       "      <td>https://web.archive.org/web/20230118162813/ht...</td>\n",
       "      <td>NaN</td>\n",
       "      <td>NaN</td>\n",
       "      <td>NaN</td>\n",
       "      <td>NaN</td>\n",
       "      <td>NaN</td>\n",
       "    </tr>\n",
       "    <tr>\n",
       "      <th>3</th>\n",
       "      <td>293</td>\n",
       "      <td>2022</td>\n",
       "      <td>01/07/23</td>\n",
       "      <td>Canada</td>\n",
       "      <td>0</td>\n",
       "      <td>Tesla crashes</td>\n",
       "      <td>1</td>\n",
       "      <td>1.0</td>\n",
       "      <td>0.0</td>\n",
       "      <td>0.0</td>\n",
       "      <td>...</td>\n",
       "      <td>0.0</td>\n",
       "      <td>0.0</td>\n",
       "      <td>NaN</td>\n",
       "      <td>NaN</td>\n",
       "      <td>https://web.archive.org/web/20230109041434/ht...</td>\n",
       "      <td>NaN</td>\n",
       "      <td>Taren Singh Lal</td>\n",
       "      <td>NaN</td>\n",
       "      <td>NaN</td>\n",
       "      <td>NaN</td>\n",
       "    </tr>\n",
       "    <tr>\n",
       "      <th>4</th>\n",
       "      <td>292</td>\n",
       "      <td>2022</td>\n",
       "      <td>01/07/23</td>\n",
       "      <td>USA</td>\n",
       "      <td>WA</td>\n",
       "      <td>Tesla hits pole, catches on fire</td>\n",
       "      <td>1</td>\n",
       "      <td>0.0</td>\n",
       "      <td>1.0</td>\n",
       "      <td>0.0</td>\n",
       "      <td>...</td>\n",
       "      <td>0.0</td>\n",
       "      <td>0.0</td>\n",
       "      <td>NaN</td>\n",
       "      <td>NaN</td>\n",
       "      <td>https://web.archive.org/web/20230107232745/ht...</td>\n",
       "      <td>NaN</td>\n",
       "      <td>NaN</td>\n",
       "      <td>NaN</td>\n",
       "      <td>NaN</td>\n",
       "      <td>NaN</td>\n",
       "    </tr>\n",
       "    <tr>\n",
       "      <th>...</th>\n",
       "      <td>...</td>\n",
       "      <td>...</td>\n",
       "      <td>...</td>\n",
       "      <td>...</td>\n",
       "      <td>...</td>\n",
       "      <td>...</td>\n",
       "      <td>...</td>\n",
       "      <td>...</td>\n",
       "      <td>...</td>\n",
       "      <td>...</td>\n",
       "      <td>...</td>\n",
       "      <td>...</td>\n",
       "      <td>...</td>\n",
       "      <td>...</td>\n",
       "      <td>...</td>\n",
       "      <td>...</td>\n",
       "      <td>...</td>\n",
       "      <td>...</td>\n",
       "      <td>...</td>\n",
       "      <td>...</td>\n",
       "      <td>...</td>\n",
       "    </tr>\n",
       "    <tr>\n",
       "      <th>291</th>\n",
       "      <td>5</td>\n",
       "      <td>2014</td>\n",
       "      <td>7/14/2014</td>\n",
       "      <td>USA</td>\n",
       "      <td>CA</td>\n",
       "      <td>Tesla kills motorcyclist</td>\n",
       "      <td>1</td>\n",
       "      <td>0.0</td>\n",
       "      <td>0.0</td>\n",
       "      <td>1.0</td>\n",
       "      <td>...</td>\n",
       "      <td>0.0</td>\n",
       "      <td>0.0</td>\n",
       "      <td>https://web.archive.org/web/20220817120807/ht...</td>\n",
       "      <td>https://web.archive.org/web/20220817120807/ht...</td>\n",
       "      <td>https://web.archive.org/web/20220817120807/ht...</td>\n",
       "      <td>NaN</td>\n",
       "      <td>NaN</td>\n",
       "      <td>NaN</td>\n",
       "      <td>NaN</td>\n",
       "      <td>NaN</td>\n",
       "    </tr>\n",
       "    <tr>\n",
       "      <th>292</th>\n",
       "      <td>4</td>\n",
       "      <td>2014</td>\n",
       "      <td>07/04/14</td>\n",
       "      <td>USA</td>\n",
       "      <td>CA</td>\n",
       "      <td>Thief crashes stolen Tesla</td>\n",
       "      <td>1</td>\n",
       "      <td>1.0</td>\n",
       "      <td>0.0</td>\n",
       "      <td>0.0</td>\n",
       "      <td>...</td>\n",
       "      <td>0.0</td>\n",
       "      <td>0.0</td>\n",
       "      <td>https://web.archive.org/web/20220817120839/ht...</td>\n",
       "      <td>https://web.archive.org/web/20220817120839/ht...</td>\n",
       "      <td>https://web.archive.org/web/20220817120839/ht...</td>\n",
       "      <td>NaN</td>\n",
       "      <td>Joshua Slot</td>\n",
       "      <td>NaN</td>\n",
       "      <td>NaN</td>\n",
       "      <td>NaN</td>\n",
       "    </tr>\n",
       "    <tr>\n",
       "      <th>293</th>\n",
       "      <td>3</td>\n",
       "      <td>2014</td>\n",
       "      <td>07/04/14</td>\n",
       "      <td>USA</td>\n",
       "      <td>CA</td>\n",
       "      <td>Tesla rear ends stopped car</td>\n",
       "      <td>3</td>\n",
       "      <td>0.0</td>\n",
       "      <td>0.0</td>\n",
       "      <td>3.0</td>\n",
       "      <td>...</td>\n",
       "      <td>0.0</td>\n",
       "      <td>0.0</td>\n",
       "      <td>https://web.archive.org/web/20220412004559/ht...</td>\n",
       "      <td>https://web.archive.org/web/20220412004559/ht...</td>\n",
       "      <td>https://web.archive.org/web/20220412004559/ht...</td>\n",
       "      <td>NaN</td>\n",
       "      <td>NaN</td>\n",
       "      <td>NaN</td>\n",
       "      <td>NaN</td>\n",
       "      <td>NaN</td>\n",
       "    </tr>\n",
       "    <tr>\n",
       "      <th>294</th>\n",
       "      <td>2</td>\n",
       "      <td>2013</td>\n",
       "      <td>11/02/13</td>\n",
       "      <td>USA</td>\n",
       "      <td>CA</td>\n",
       "      <td>Tesla kills cyclist</td>\n",
       "      <td>1</td>\n",
       "      <td>0.0</td>\n",
       "      <td>0.0</td>\n",
       "      <td>0.0</td>\n",
       "      <td>...</td>\n",
       "      <td>0.0</td>\n",
       "      <td>0.0</td>\n",
       "      <td>https://web.archive.org/web/20220817121049/ht...</td>\n",
       "      <td>https://web.archive.org/web/20220817121049/ht...</td>\n",
       "      <td>https://web.archive.org/web/20220817121049/ht...</td>\n",
       "      <td>NaN</td>\n",
       "      <td>NaN</td>\n",
       "      <td>NaN</td>\n",
       "      <td>NaN</td>\n",
       "      <td>NaN</td>\n",
       "    </tr>\n",
       "    <tr>\n",
       "      <th>295</th>\n",
       "      <td>1</td>\n",
       "      <td>2013</td>\n",
       "      <td>04/02/13</td>\n",
       "      <td>USA</td>\n",
       "      <td>CA</td>\n",
       "      <td>Tesla veers into opposite lane</td>\n",
       "      <td>2</td>\n",
       "      <td>0.0</td>\n",
       "      <td>0.0</td>\n",
       "      <td>2.0</td>\n",
       "      <td>...</td>\n",
       "      <td>0.0</td>\n",
       "      <td>0.0</td>\n",
       "      <td>https://web.archive.org/web/20150425055520/ht...</td>\n",
       "      <td>https://web.archive.org/web/20150425055520/ht...</td>\n",
       "      <td>https://web.archive.org/web/20150425055520/ht...</td>\n",
       "      <td>NaN</td>\n",
       "      <td>Alberto Casique0Salinas</td>\n",
       "      <td>Armando Garcia0Gonzales</td>\n",
       "      <td>NaN</td>\n",
       "      <td>NaN</td>\n",
       "    </tr>\n",
       "  </tbody>\n",
       "</table>\n",
       "<p>296 rows × 24 columns</p>\n",
       "</div>"
      ],
      "text/plain": [
       "     Case #  Year       Date  Country   State   \\\n",
       "0       296  2022  1/30/2023      USA       MO   \n",
       "1       295  2022  1/21/2023      USA       CA   \n",
       "2       294  2022  1/17/2023      USA       CA   \n",
       "3       293  2022   01/07/23   Canada        0   \n",
       "4       292  2022   01/07/23      USA       WA   \n",
       "..      ...   ...        ...       ...     ...   \n",
       "291       5  2014  7/14/2014      USA      CA    \n",
       "292       4  2014   07/04/14      USA      CA    \n",
       "293       3  2014   07/04/14      USA      CA    \n",
       "294       2  2013   11/02/13      USA      CA    \n",
       "295       1  2013   04/02/13      USA      CA    \n",
       "\n",
       "                              Description    Deaths    Tesla driver   \\\n",
       "0         Speeding Tesla crashes into car          1             0.0   \n",
       "1     Tesla crashses into resident's pool          1             1.0   \n",
       "2         Tesla crashes into back of semi          1             1.0   \n",
       "3                           Tesla crashes          1             1.0   \n",
       "4        Tesla hits pole, catches on fire          1             0.0   \n",
       "..                                     ...       ...             ...   \n",
       "291              Tesla kills motorcyclist          1             0.0   \n",
       "292            Thief crashes stolen Tesla          1             1.0   \n",
       "293           Tesla rear ends stopped car          3             0.0   \n",
       "294                   Tesla kills cyclist          1             0.0   \n",
       "295        Tesla veers into opposite lane          2             0.0   \n",
       "\n",
       "      Tesla occupant    Other vehicle   ...  \\\n",
       "0                 0.0              1.0  ...   \n",
       "1                 0.0              0.0  ...   \n",
       "2                 0.0              0.0  ...   \n",
       "3                 0.0              0.0  ...   \n",
       "4                 1.0              0.0  ...   \n",
       "..                ...              ...  ...   \n",
       "291               0.0              1.0  ...   \n",
       "292               0.0              0.0  ...   \n",
       "293               0.0              3.0  ...   \n",
       "294               0.0              0.0  ...   \n",
       "295               0.0              2.0  ...   \n",
       "\n",
       "      Verified Tesla Autopilot Deaths   \\\n",
       "0                                  0.0   \n",
       "1                                  0.0   \n",
       "2                                  0.0   \n",
       "3                                  0.0   \n",
       "4                                  0.0   \n",
       "..                                 ...   \n",
       "291                                0.0   \n",
       "292                                0.0   \n",
       "293                                0.0   \n",
       "294                                0.0   \n",
       "295                                0.0   \n",
       "\n",
       "      Verified Tesla Autopilot Deaths + All Deaths Reported to NHTSA SGO   \\\n",
       "0                                                  0.0                      \n",
       "1                                                  0.0                      \n",
       "2                                                  0.0                      \n",
       "3                                                  0.0                      \n",
       "4                                                  0.0                      \n",
       "..                                                 ...                      \n",
       "291                                                0.0                      \n",
       "292                                                0.0                      \n",
       "293                                                0.0                      \n",
       "294                                                0.0                      \n",
       "295                                                0.0                      \n",
       "\n",
       "                                           Unnamed: 16  \\\n",
       "0     https://web.archive.org/web/20230130231416/ht...   \n",
       "1                            https://archive.is/r4ida    \n",
       "2                                                  NaN   \n",
       "3                                                  NaN   \n",
       "4                                                  NaN   \n",
       "..                                                 ...   \n",
       "291   https://web.archive.org/web/20220817120807/ht...   \n",
       "292   https://web.archive.org/web/20220817120839/ht...   \n",
       "293   https://web.archive.org/web/20220412004559/ht...   \n",
       "294   https://web.archive.org/web/20220817121049/ht...   \n",
       "295   https://web.archive.org/web/20150425055520/ht...   \n",
       "\n",
       "                                           Unnamed: 17  \\\n",
       "0     https://web.archive.org/web/20230130231416/ht...   \n",
       "1                            https://archive.is/r4ida    \n",
       "2                                                  NaN   \n",
       "3                                                  NaN   \n",
       "4                                                  NaN   \n",
       "..                                                 ...   \n",
       "291   https://web.archive.org/web/20220817120807/ht...   \n",
       "292   https://web.archive.org/web/20220817120839/ht...   \n",
       "293   https://web.archive.org/web/20220412004559/ht...   \n",
       "294   https://web.archive.org/web/20220817121049/ht...   \n",
       "295   https://web.archive.org/web/20150425055520/ht...   \n",
       "\n",
       "                                               Source    Note   \\\n",
       "0     https://web.archive.org/web/20230130231416/ht...     NaN   \n",
       "1                            https://archive.is/r4ida      NaN   \n",
       "2     https://web.archive.org/web/20230118162813/ht...     NaN   \n",
       "3     https://web.archive.org/web/20230109041434/ht...     NaN   \n",
       "4     https://web.archive.org/web/20230107232745/ht...     NaN   \n",
       "..                                                 ...     ...   \n",
       "291   https://web.archive.org/web/20220817120807/ht...     NaN   \n",
       "292   https://web.archive.org/web/20220817120839/ht...     NaN   \n",
       "293   https://web.archive.org/web/20220412004559/ht...     NaN   \n",
       "294   https://web.archive.org/web/20220817121049/ht...     NaN   \n",
       "295   https://web.archive.org/web/20150425055520/ht...     NaN   \n",
       "\n",
       "                   Deceased 1                 Deceased 2   Deceased 3   \\\n",
       "0                          NaN                        NaN          NaN   \n",
       "1                          NaN                        NaN          NaN   \n",
       "2                          NaN                        NaN          NaN   \n",
       "3             Taren Singh Lal                         NaN          NaN   \n",
       "4                          NaN                        NaN          NaN   \n",
       "..                         ...                        ...          ...   \n",
       "291                        NaN                        NaN          NaN   \n",
       "292               Joshua Slot                         NaN          NaN   \n",
       "293                        NaN                        NaN          NaN   \n",
       "294                        NaN                        NaN          NaN   \n",
       "295   Alberto Casique0Salinas    Armando Garcia0Gonzales           NaN   \n",
       "\n",
       "     Deceased 4   \n",
       "0            NaN  \n",
       "1            NaN  \n",
       "2            NaN  \n",
       "3            NaN  \n",
       "4            NaN  \n",
       "..           ...  \n",
       "291          NaN  \n",
       "292          NaN  \n",
       "293          NaN  \n",
       "294          NaN  \n",
       "295          NaN  \n",
       "\n",
       "[296 rows x 24 columns]"
      ]
     },
     "execution_count": 58,
     "metadata": {},
     "output_type": "execute_result"
    }
   ],
   "source": [
    "tesla_data"
   ]
  },
  {
   "cell_type": "code",
   "execution_count": 59,
   "id": "c9f67101",
   "metadata": {},
   "outputs": [
    {
     "data": {
      "text/plain": [
       " State \n",
       "0       79\n",
       " CA     75\n",
       " FL     24\n",
       "CA      17\n",
       " AZ      8\n",
       "Name:  Deaths , dtype: int64"
      ]
     },
     "execution_count": 59,
     "metadata": {},
     "output_type": "execute_result"
    }
   ],
   "source": [
    "# Tesla Deaths by US State\n",
    "d_by_state = tesla_data.groupby(' State ')[' Deaths '].count().sort_values(ascending=False)\n",
    "d_by_state.head()"
   ]
  },
  {
   "cell_type": "code",
   "execution_count": 60,
   "id": "246d490b",
   "metadata": {},
   "outputs": [
    {
     "data": {
      "text/plain": [
       "Date\n",
       "11/20/2019    3\n",
       "5/28/2022     3\n",
       "6/20/2022     3\n",
       "01/01/22      2\n",
       "07/04/14      2\n",
       "             ..\n",
       "10/19/2019    1\n",
       "10/19/2022    1\n",
       "10/26/2018    1\n",
       "10/28/2021    1\n",
       "9/24/2017     1\n",
       "Name:  Deaths , Length: 265, dtype: int64"
      ]
     },
     "execution_count": 60,
     "metadata": {},
     "output_type": "execute_result"
    }
   ],
   "source": [
    "# Number of deaths by crash\n",
    "d_by_date = tesla_data.groupby('Date')[' Deaths '].count().sort_values(ascending=False)\n",
    "d_by_date"
   ]
  },
  {
   "cell_type": "code",
   "execution_count": 61,
   "id": "0698869c",
   "metadata": {},
   "outputs": [
    {
     "name": "stdout",
     "output_type": "stream",
     "text": [
      "['Case #', 'Year', 'Date', ' Country ', ' State ', ' Description ', ' Deaths ', ' Tesla driver ', ' Tesla occupant ', ' Other vehicle ', ' Cyclists/ Peds ', ' TSLA+cycl / peds ', ' Model ', ' Autopilot claimed ', ' Verified Tesla Autopilot Deaths ', ' Verified Tesla Autopilot Deaths + All Deaths Reported to NHTSA SGO ', 'Unnamed: 16', 'Unnamed: 17', ' Source ', ' Note ', ' Deceased 1 ', ' Deceased 2 ', ' Deceased 3 ', ' Deceased 4 ']\n"
     ]
    }
   ],
   "source": [
    "# List all Columns\n",
    "columns_list = tesla_data.columns.tolist()\n",
    "print(columns_list)"
   ]
  },
  {
   "cell_type": "code",
   "execution_count": 62,
   "id": "9969f3ed",
   "metadata": {
    "collapsed": true
   },
   "outputs": [
    {
     "data": {
      "text/plain": [
       "Year\n",
       "2013     0.0\n",
       "2014     2.0\n",
       "2015     4.0\n",
       "2016     5.0\n",
       "2017     2.0\n",
       "2018     8.0\n",
       "2019    11.0\n",
       "2020    13.0\n",
       "2021    28.0\n",
       "2022    45.0\n",
       "Name:  Tesla driver , dtype: float64"
      ]
     },
     "execution_count": 62,
     "metadata": {},
     "output_type": "execute_result"
    }
   ],
   "source": [
    "# Deaths by year\n",
    "comparison = tesla_data.groupby('Year')[' Tesla driver '].sum()\n",
    "comparison"
   ]
  },
  {
   "cell_type": "code",
   "execution_count": 67,
   "id": "eb296edb",
   "metadata": {},
   "outputs": [
    {
     "data": {
      "text/plain": [
       "118.0"
      ]
     },
     "execution_count": 67,
     "metadata": {},
     "output_type": "execute_result"
    }
   ],
   "source": [
    "# Calculate the total of a specific column (e.g., 'Column1')\n",
    "total_driver = tesla_data[' Tesla driver '].sum()\n",
    "\n",
    "total_driver"
   ]
  },
  {
   "cell_type": "code",
   "execution_count": 64,
   "id": "4b334c8c",
   "metadata": {
    "collapsed": true
   },
   "outputs": [
    {
     "data": {
      "text/plain": [
       "Year\n",
       "2013     0.0\n",
       "2014     0.0\n",
       "2015     0.0\n",
       "2016     2.0\n",
       "2017     0.0\n",
       "2018     7.0\n",
       "2019     6.0\n",
       "2020     6.0\n",
       "2021    11.0\n",
       "2022    16.0\n",
       "Name:  Tesla occupant , dtype: float64"
      ]
     },
     "execution_count": 64,
     "metadata": {},
     "output_type": "execute_result"
    }
   ],
   "source": [
    "# Deaths by year\n",
    "comparison_1 = tesla_data.groupby('Year')[' Tesla occupant '].sum()\n",
    "comparison_1"
   ]
  },
  {
   "cell_type": "code",
   "execution_count": 50,
   "id": "7a7ad697",
   "metadata": {},
   "outputs": [
    {
     "data": {
      "image/png": "[encoded data removed]",
      "text/plain": [
       "<Figure size 640x480 with 1 Axes>"
      ]
     },
     "metadata": {},
     "output_type": "display_data"
    }
   ],
   "source": [
    "# Tesla Driver\n",
    "\n",
    "def linear(x_values, y_values):\n",
    "    slope,intercept,rvalue,pvalue,stderr =linregress(x_values,y_values)\n",
    "    line_eq = f'y = {round(intercept,2)} + {round(slope,2)} X'\n",
    "    y_predict = intercept + (slope * x_values)\n",
    "    return line_eq, y_predict\n",
    "\n",
    "x_values = tesla_data.groupby('Year')[' Tesla driver '].sum().index\n",
    "y_values = tesla_data.groupby('Year')[' Tesla driver '].sum()\n",
    "line_eq, y_predict = linear(x_values, y_values)\n",
    "plt.scatter(x_values, y_values)\n",
    "plt.plot(x_values, y_predict, color = \"black\")\n",
    "\n",
    "plt.ylabel('Tesla driver')\n",
    "plt.xlabel('Year')\n",
    "plt.title('Year vs Tesla Driver')\n",
    "\n",
    "# Show plot\n",
    "plt.show()"
   ]
  },
  {
   "cell_type": "code",
   "execution_count": 49,
   "id": "4fe7712a",
   "metadata": {},
   "outputs": [
    {
     "data": {
      "image/png": "[encoded data removed]",
      "text/plain": [
       "<Figure size 640x480 with 1 Axes>"
      ]
     },
     "metadata": {},
     "output_type": "display_data"
    }
   ],
   "source": [
    "#Tesla occupant\n",
    "\n",
    "def linear(x_values, y_values):\n",
    "    slope,intercept,rvalue,pvalue,stderr =linregress(x_values,y_values)\n",
    "    line_eq = f'y = {round(intercept,2)} + {round(slope,2)} X'\n",
    "    y_predict = intercept + (slope * x_values)\n",
    "    return line_eq, y_predict\n",
    "\n",
    "x_values = tesla_data.groupby('Year')[' Other vehicle '].sum().index\n",
    "y_values = tesla_data.groupby('Year')[' Other vehicle '].sum()\n",
    "line_eq, y_predict = linear(x_values, y_values)\n",
    "plt.scatter(x_values, y_values)\n",
    "plt.plot(x_values, y_predict, color = \"black\")\n",
    "\n",
    "plt.ylabel('Other vehicle')\n",
    "plt.xlabel('Year')\n",
    "plt.title('Year vs Other vehicle')\n",
    "\n",
    "# Show plot\n",
    "plt.show()"
   ]
  },
  {
   "cell_type": "code",
   "execution_count": 68,
   "id": "a5d6ebf3",
   "metadata": {},
   "outputs": [
    {
     "data": {
      "text/plain": [
       "118.0"
      ]
     },
     "execution_count": 68,
     "metadata": {},
     "output_type": "execute_result"
    }
   ],
   "source": [
    "# Calculate the total for Tesla driver (e.g., 'Column1')\n",
    "total_driver = tesla_data[' Tesla driver '].sum()\n",
    "total_driver"
   ]
  },
  {
   "cell_type": "code",
   "execution_count": 69,
   "id": "4c1bb897",
   "metadata": {},
   "outputs": [
    {
     "data": {
      "text/plain": [
       "48.0"
      ]
     },
     "execution_count": 69,
     "metadata": {},
     "output_type": "execute_result"
    }
   ],
   "source": [
    "# Calculate the total for Tesla occupant (e.g., 'Column2')\n",
    "total_occupant = tesla_data[' Tesla occupant '].sum()\n",
    "total_occupant"
   ]
  },
  {
   "cell_type": "code",
   "execution_count": 71,
   "id": "4c4db10f",
   "metadata": {},
   "outputs": [
    {
     "data": {
      "text/plain": [
       "131.0"
      ]
     },
     "execution_count": 71,
     "metadata": {},
     "output_type": "execute_result"
    }
   ],
   "source": [
    "# Calculate the total for other vehicles (e.g., 'Column3')\n",
    "total_other = tesla_data[' Other vehicle '].sum()\n",
    "total_other"
   ]
  },
  {
   "cell_type": "code",
   "execution_count": 72,
   "id": "8afcb26a",
   "metadata": {},
   "outputs": [
    {
     "data": {
      "image/png": "[encoded data removed]",
      "text/plain": [
       "<Figure size 1000x500 with 1 Axes>"
      ]
     },
     "metadata": {},
     "output_type": "display_data"
    }
   ],
   "source": [
    "# creating the dataset\n",
    "data = {'Driver':118, 'Occupant':48, 'Other':131}\n",
    "courses = list(data.keys())\n",
    "values = list(data.values())\n",
    "  \n",
    "fig = plt.figure(figsize = (10, 5))\n",
    " \n",
    "# creating the bar plot\n",
    "plt.bar(courses, values, color ='maroon',\n",
    "        width = 0.4)\n",
    " \n",
    "plt.xlabel(\"Victims\")\n",
    "plt.ylabel(\"# of Deaths\")\n",
    "plt.title(\"Death Comparison Tesla occupants vs other vehicles\")\n",
    "plt.show()"
   ]
  },
  {
   "cell_type": "code",
   "execution_count": null,
   "id": "1caaa547",
   "metadata": {},
   "outputs": [],
   "source": []
  }
 ],
 "metadata": {
  "kernelspec": {
   "display_name": "Python 3 (ipykernel)",
   "language": "python",
   "name": "python3"
  },
  "language_info": {
   "codemirror_mode": {
    "name": "ipython",
    "version": 3
   },
   "file_extension": ".py",
   "mimetype": "text/x-python",
   "name": "python",
   "nbconvert_exporter": "python",
   "pygments_lexer": "ipython3",
   "version": "3.10.9"
  }
 },
 "nbformat": 4,
 "nbformat_minor": 5
}
